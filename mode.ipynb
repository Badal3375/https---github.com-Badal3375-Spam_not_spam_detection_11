{
 "cells": [
  {
   "cell_type": "code",
   "execution_count": 9,
   "id": "78bc5879",
   "metadata": {},
   "outputs": [
    {
     "name": "stdout",
     "output_type": "stream",
     "text": [
      "✅ Model trained and saved as spam_model.pkl\n"
     ]
    }
   ],
   "source": [
    "# train_spam_model.py\n",
    "import pandas as pd\n",
    "from sklearn.model_selection import train_test_split\n",
    "from sklearn.feature_extraction.text import CountVectorizer\n",
    "from sklearn.naive_bayes import MultinomialNB\n",
    "from sklearn.pipeline import Pipeline\n",
    "import joblib\n",
    "\n",
    "# Load sample SMS Spam Dataset\n",
    "url = \"C:\\\\Users\\\\singh\\\\Downloads\\\\data_set\\\\spam.csv\"\n",
    "\n",
    "# The UCI SMS Spam dataset usually has columns: v1 (label), v2 (message)\n",
    "data = pd.read_csv(url, encoding=\"latin-1\")\n",
    "\n",
    "# Rename columns for clarity\n",
    "data = data.rename(columns={\"v1\": \"label\", \"v2\": \"message\"})\n",
    "\n",
    "# Map labels to binary (ham=0, spam=1)\n",
    "data['label_num'] = data['label'].map({'ham': 0, 'spam': 1})\n",
    "\n",
    "# Split data\n",
    "X_train, X_test, y_train, y_test = train_test_split(\n",
    "    data['message'], \n",
    "    data['label_num'], \n",
    "    test_size=0.2, \n",
    "    random_state=42\n",
    ")\n",
    "\n",
    "# Create a pipeline with vectorizer and classifier\n",
    "pipeline = Pipeline([\n",
    "    ('vectorizer', CountVectorizer()),\n",
    "    ('classifier', MultinomialNB()),\n",
    "])\n",
    "\n",
    "# Train the model\n",
    "pipeline.fit(X_train, y_train)\n",
    "\n",
    "# Save the model pipeline\n",
    "joblib.dump(pipeline, 'spam_model.pkl')\n",
    "\n",
    "print(\"✅ Model trained and saved as spam_model.pkl\")\n"
   ]
  },
  {
   "cell_type": "code",
   "execution_count": 1,
   "id": "dec84ffc",
   "metadata": {},
   "outputs": [
    {
     "name": "stdout",
     "output_type": "stream",
     "text": [
      "     v1                                                 v2 Unnamed: 2  \\\n",
      "0   ham  Go until jurong point, crazy.. Available only ...        NaN   \n",
      "1   ham                      Ok lar... Joking wif u oni...        NaN   \n",
      "2  spam  Free entry in 2 a wkly comp to win FA Cup fina...        NaN   \n",
      "3   ham  U dun say so early hor... U c already then say...        NaN   \n",
      "4   ham  Nah I don't think he goes to usf, he lives aro...        NaN   \n",
      "\n",
      "  Unnamed: 3 Unnamed: 4  \n",
      "0        NaN        NaN  \n",
      "1        NaN        NaN  \n",
      "2        NaN        NaN  \n",
      "3        NaN        NaN  \n",
      "4        NaN        NaN  \n"
     ]
    }
   ],
   "source": [
    "import pandas as pd\n",
    "\n",
    "file_path = r\"C:\\Users\\singh\\Downloads\\data_set\\spam.csv\"\n",
    "\n",
    "# Try this encoding first\n",
    "data = pd.read_csv(file_path, encoding='latin-1')\n",
    "\n",
    "# If you know your CSV is comma-separated, do not use sep='\\t'\n",
    "# data = pd.read_csv(file_path, encoding='latin-1', sep=',')\n",
    "\n",
    "# For tab-separated, you can try sep='\\t'\n",
    "# data = pd.read_csv(file_path, encoding='latin-1', sep='\\t')\n",
    "\n",
    "print(data.head())\n"
   ]
  },
  {
   "cell_type": "code",
   "execution_count": null,
   "id": "da638d64",
   "metadata": {},
   "outputs": [],
   "source": []
  }
 ],
 "metadata": {
  "kernelspec": {
   "display_name": "Python 3",
   "language": "python",
   "name": "python3"
  },
  "language_info": {
   "codemirror_mode": {
    "name": "ipython",
    "version": 3
   },
   "file_extension": ".py",
   "mimetype": "text/x-python",
   "name": "python",
   "nbconvert_exporter": "python",
   "pygments_lexer": "ipython3",
   "version": "3.13.7"
  }
 },
 "nbformat": 4,
 "nbformat_minor": 5
}
